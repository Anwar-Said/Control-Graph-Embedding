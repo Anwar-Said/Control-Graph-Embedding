{
 "cells": [
  {
   "cell_type": "code",
   "execution_count": 7,
   "metadata": {},
   "outputs": [],
   "source": [
    "import multiprocessing\n",
    "import numpy as np\n",
    "\n",
    "import time\n",
    "import pandas as pd\n",
    "from tqdm.notebook import tqdm\n",
    "import tqdm\n",
    "from sklearn.model_selection import GridSearchCV,StratifiedKFold\n",
    "from sklearn.ensemble import RandomForestClassifier\n",
    "from sklearn.model_selection import cross_val_score\n",
    "from sklearn.utils import shuffle\n",
    "num_cores = multiprocessing.cpu_count()"
   ]
  },
  {
   "cell_type": "code",
   "execution_count": 14,
   "metadata": {},
   "outputs": [],
   "source": [
    "def apply_RF_Grid(data_X,data_y):\n",
    "    num_cores = multiprocessing.cpu_count()\n",
    "    max_arr = []\n",
    "    estimator  = RandomForestClassifier(criterion='gini', max_depth=None, min_weight_fraction_leaf=0.0,\n",
    "                                            max_leaf_nodes=None, bootstrap=True, \n",
    "                                            oob_score=False, n_jobs=num_cores,verbose=0, warm_start=False,\n",
    "                                            class_weight=None)\n",
    "         \n",
    "    param_grid = {'n_estimators':[50,100,500], 'max_features':['sqrt'], \n",
    "                  'min_samples_split':[2,3,4,5,10], 'min_samples_leaf':[1,2,5]}\n",
    "    kf = StratifiedKFold(n_splits=10, random_state = 890, shuffle = True)\n",
    "    grid_rf    = GridSearchCV(estimator, param_grid, scoring='accuracy', n_jobs=num_cores, \n",
    "                 refit=True, cv=kf, verbose=1, pre_dispatch='n_jobs', \n",
    "                 error_score='raise')\n",
    "\n",
    "    grid_rf.fit(data_X, data_y)\n",
    "    \n",
    "    cv_results = pd.DataFrame(grid_rf.cv_results_)\n",
    "    best_score = grid_rf.best_score_\n",
    "    return best_score\n"
   ]
  },
  {
   "cell_type": "code",
   "execution_count": 18,
   "metadata": {},
   "outputs": [
    {
     "name": "stdout",
     "output_type": "stream",
     "text": [
      "(2000,) (2000, 155)\n"
     ]
    }
   ],
   "source": [
    "descriptors = pd.read_csv(\"data/REDDIT-BINARY_desc.csv\")\n",
    "labels = np.loadtxt('data/hosd/Y/REDDIT-BINARY_Y.txt')\n",
    "print(labels.shape, descriptors.shape)"
   ]
  },
  {
   "cell_type": "code",
   "execution_count": 19,
   "metadata": {},
   "outputs": [
    {
     "name": "stdout",
     "output_type": "stream",
     "text": [
      "Fitting 10 folds for each of 45 candidates, totalling 450 fits\n",
      "0.9605\n"
     ]
    }
   ],
   "source": [
    "acc = apply_RF_Grid(descriptors, labels)\n",
    "print(acc)"
   ]
  },
  {
   "cell_type": "code",
   "execution_count": null,
   "metadata": {},
   "outputs": [],
   "source": []
  }
 ],
 "metadata": {
  "kernelspec": {
   "display_name": "Python 3 (ipykernel)",
   "language": "python",
   "name": "python3"
  },
  "language_info": {
   "codemirror_mode": {
    "name": "ipython",
    "version": 3
   },
   "file_extension": ".py",
   "mimetype": "text/x-python",
   "name": "python",
   "nbconvert_exporter": "python",
   "pygments_lexer": "ipython3",
   "version": "3.9.15"
  }
 },
 "nbformat": 4,
 "nbformat_minor": 4
}
